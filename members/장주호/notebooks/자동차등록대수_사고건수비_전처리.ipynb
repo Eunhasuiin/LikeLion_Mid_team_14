{
 "cells": [
  {
   "cell_type": "code",
   "execution_count": 1,
   "id": "cb237b24-564a-430c-b839-dcd10f98a0b7",
   "metadata": {},
   "outputs": [],
   "source": [
    "import pandas as pd\n",
    "import numpy as np\n",
    "import matplotlib.pyplot as plt\n",
    "import seaborn as sns\n",
    "sns.set()\n",
    "\n",
    "# 그래프 기본 설정\n",
    "plt.rcParams['font.family'] = 'Malgun Gothic'\n",
    "# plt.rcParams['font.family'] = 'AppleGothic'\n",
    "plt.rcParams['figure.figsize'] = 12, 6\n",
    "plt.rcParams['font.size'] = 14\n",
    "plt.rcParams['axes.unicode_minus'] = False\n",
    "\n",
    "# 복잡한 통계 처리를 위한 라이브러리\n",
    "from scipy import stats\n",
    "\n",
    "\n",
    "\n",
    "input_file_dir = \"C:/Users/sherm/Desktop/workspace/LikeLion_Mid_team_14/data/raw/\"\n",
    "output_file_dir = \"C:/Users/sherm/Desktop/workspace/LikeLion_Mid_team_14/data/processed/\""
   ]
  },
  {
   "cell_type": "code",
   "execution_count": 3,
   "id": "ad7bb22c-15bd-4efb-b1ea-c6a863377455",
   "metadata": {},
   "outputs": [],
   "source": [
    "temp_0=pd.read_excel(output_file_dir + '12-16자동차등록대수_사고건수비_분석결과.xlsx')\n",
    "temp_1=pd.read_excel(output_file_dir + '17-21자동차등록대수_사고건수비_비교.xlsx')"
   ]
  },
  {
   "cell_type": "code",
   "execution_count": 63,
   "id": "2c5caf9b-ace6-4815-b3d9-f24709696086",
   "metadata": {},
   "outputs": [],
   "source": [
    "temp=temp_0.set_index(\"국가_국가\").join(temp_1.set_index(\"국가_국가\"))"
   ]
  },
  {
   "cell_type": "code",
   "execution_count": 64,
   "id": "44efc610-29b9-498d-92da-c71ce55e2559",
   "metadata": {},
   "outputs": [],
   "source": [
    "temp=temp.iloc[:-1]"
   ]
  },
  {
   "cell_type": "code",
   "execution_count": 65,
   "id": "e0301603-db13-4525-b558-1ef19a418c0a",
   "metadata": {},
   "outputs": [],
   "source": [
    "temp=temp.reset_index()"
   ]
  },
  {
   "cell_type": "code",
   "execution_count": 66,
   "id": "d825ccd5-72f6-4d84-b05a-6a3eb189e0b7",
   "metadata": {},
   "outputs": [],
   "source": [
    "temp.columns = ['국가',2012,2013,2014,2015,2016,2017,2018,2019,2020,2021]"
   ]
  },
  {
   "cell_type": "code",
   "execution_count": 67,
   "id": "f6e26837-dc31-44c7-a9b1-d17610476bb2",
   "metadata": {},
   "outputs": [],
   "source": [
    "temp=pd.melt(temp,id_vars=['국가'],var_name='연도', value_name='차량 등록 대수 당 사고율')"
   ]
  },
  {
   "cell_type": "code",
   "execution_count": 68,
   "id": "9d82f563-aec6-4a27-900c-b0e4c400026a",
   "metadata": {},
   "outputs": [],
   "source": [
    "temp_clean=temp.dropna()"
   ]
  },
  {
   "cell_type": "code",
   "execution_count": 69,
   "id": "2d1fd0c0-d5a4-4d3e-9a41-f4f11130ddb8",
   "metadata": {
    "scrolled": true
   },
   "outputs": [
    {
     "name": "stderr",
     "output_type": "stream",
     "text": [
      "C:\\Users\\sherm\\AppData\\Local\\Temp\\ipykernel_29292\\1105036512.py:1: SettingWithCopyWarning: \n",
      "A value is trying to be set on a copy of a slice from a DataFrame.\n",
      "Try using .loc[row_indexer,col_indexer] = value instead\n",
      "\n",
      "See the caveats in the documentation: https://pandas.pydata.org/pandas-docs/stable/user_guide/indexing.html#returning-a-view-versus-a-copy\n",
      "  temp_clean['차량 등록 대수 당 사고율 X 100'] = temp_clean['차량 등록 대수 당 사고율']*100\n",
      "C:\\Users\\sherm\\AppData\\Local\\Temp\\ipykernel_29292\\1105036512.py:2: SettingWithCopyWarning: \n",
      "A value is trying to be set on a copy of a slice from a DataFrame.\n",
      "Try using .loc[row_indexer,col_indexer] = value instead\n",
      "\n",
      "See the caveats in the documentation: https://pandas.pydata.org/pandas-docs/stable/user_guide/indexing.html#returning-a-view-versus-a-copy\n",
      "  temp_clean['차량 등록 대수 당 사고율 X 100_int'] = temp_clean['차량 등록 대수 당 사고율 X 100'].astype('int64')\n"
     ]
    },
    {
     "data": {
      "text/html": [
       "<div>\n",
       "<style scoped>\n",
       "    .dataframe tbody tr th:only-of-type {\n",
       "        vertical-align: middle;\n",
       "    }\n",
       "\n",
       "    .dataframe tbody tr th {\n",
       "        vertical-align: top;\n",
       "    }\n",
       "\n",
       "    .dataframe thead th {\n",
       "        text-align: right;\n",
       "    }\n",
       "</style>\n",
       "<table border=\"1\" class=\"dataframe\">\n",
       "  <thead>\n",
       "    <tr style=\"text-align: right;\">\n",
       "      <th></th>\n",
       "      <th>국가</th>\n",
       "      <th>연도</th>\n",
       "      <th>차량 등록 대수 당 사고율</th>\n",
       "      <th>차량 등록 대수 당 사고율 X 100</th>\n",
       "      <th>차량 등록 대수 당 사고율 X 100_int</th>\n",
       "    </tr>\n",
       "  </thead>\n",
       "  <tbody>\n",
       "    <tr>\n",
       "      <th>0</th>\n",
       "      <td>그리스</td>\n",
       "      <td>2012</td>\n",
       "      <td>0.131</td>\n",
       "      <td>13.1</td>\n",
       "      <td>13</td>\n",
       "    </tr>\n",
       "    <tr>\n",
       "      <th>1</th>\n",
       "      <td>네덜란드</td>\n",
       "      <td>2012</td>\n",
       "      <td>0.047</td>\n",
       "      <td>4.7</td>\n",
       "      <td>4</td>\n",
       "    </tr>\n",
       "    <tr>\n",
       "      <th>2</th>\n",
       "      <td>노르웨이</td>\n",
       "      <td>2012</td>\n",
       "      <td>0.171</td>\n",
       "      <td>17.1</td>\n",
       "      <td>17</td>\n",
       "    </tr>\n",
       "    <tr>\n",
       "      <th>3</th>\n",
       "      <td>뉴질랜드</td>\n",
       "      <td>2012</td>\n",
       "      <td>0.298</td>\n",
       "      <td>29.8</td>\n",
       "      <td>29</td>\n",
       "    </tr>\n",
       "    <tr>\n",
       "      <th>4</th>\n",
       "      <td>대한민국</td>\n",
       "      <td>2012</td>\n",
       "      <td>0.990</td>\n",
       "      <td>99.0</td>\n",
       "      <td>99</td>\n",
       "    </tr>\n",
       "    <tr>\n",
       "      <th>...</th>\n",
       "      <td>...</td>\n",
       "      <td>...</td>\n",
       "      <td>...</td>\n",
       "      <td>...</td>\n",
       "      <td>...</td>\n",
       "    </tr>\n",
       "    <tr>\n",
       "      <th>370</th>\n",
       "      <td>캐나다</td>\n",
       "      <td>2021</td>\n",
       "      <td>0.303</td>\n",
       "      <td>30.3</td>\n",
       "      <td>30</td>\n",
       "    </tr>\n",
       "    <tr>\n",
       "      <th>375</th>\n",
       "      <td>폴란드</td>\n",
       "      <td>2021</td>\n",
       "      <td>0.067</td>\n",
       "      <td>6.7</td>\n",
       "      <td>6</td>\n",
       "    </tr>\n",
       "    <tr>\n",
       "      <th>376</th>\n",
       "      <td>프랑스</td>\n",
       "      <td>2021</td>\n",
       "      <td>0.110</td>\n",
       "      <td>11.0</td>\n",
       "      <td>11</td>\n",
       "    </tr>\n",
       "    <tr>\n",
       "      <th>377</th>\n",
       "      <td>핀란드</td>\n",
       "      <td>2021</td>\n",
       "      <td>0.064</td>\n",
       "      <td>6.4</td>\n",
       "      <td>6</td>\n",
       "    </tr>\n",
       "    <tr>\n",
       "      <th>378</th>\n",
       "      <td>헝가리</td>\n",
       "      <td>2021</td>\n",
       "      <td>0.291</td>\n",
       "      <td>29.1</td>\n",
       "      <td>29</td>\n",
       "    </tr>\n",
       "  </tbody>\n",
       "</table>\n",
       "<p>290 rows × 5 columns</p>\n",
       "</div>"
      ],
      "text/plain": [
       "       국가    연도  차량 등록 대수 당 사고율  차량 등록 대수 당 사고율 X 100  \\\n",
       "0     그리스  2012           0.131                  13.1   \n",
       "1    네덜란드  2012           0.047                   4.7   \n",
       "2    노르웨이  2012           0.171                  17.1   \n",
       "3    뉴질랜드  2012           0.298                  29.8   \n",
       "4    대한민국  2012           0.990                  99.0   \n",
       "..    ...   ...             ...                   ...   \n",
       "370   캐나다  2021           0.303                  30.3   \n",
       "375   폴란드  2021           0.067                   6.7   \n",
       "376   프랑스  2021           0.110                  11.0   \n",
       "377   핀란드  2021           0.064                   6.4   \n",
       "378   헝가리  2021           0.291                  29.1   \n",
       "\n",
       "     차량 등록 대수 당 사고율 X 100_int  \n",
       "0                          13  \n",
       "1                           4  \n",
       "2                          17  \n",
       "3                          29  \n",
       "4                          99  \n",
       "..                        ...  \n",
       "370                        30  \n",
       "375                         6  \n",
       "376                        11  \n",
       "377                         6  \n",
       "378                        29  \n",
       "\n",
       "[290 rows x 5 columns]"
      ]
     },
     "execution_count": 69,
     "metadata": {},
     "output_type": "execute_result"
    }
   ],
   "source": [
    "temp_clean['차량 등록 대수 당 사고율 X 100'] = temp_clean['차량 등록 대수 당 사고율']*100\n",
    "temp_clean['차량 등록 대수 당 사고율 X 100_int'] = temp_clean['차량 등록 대수 당 사고율 X 100'].astype('int64')\n",
    "temp_clean"
   ]
  },
  {
   "cell_type": "code",
   "execution_count": 70,
   "id": "14f48811-5405-41ce-8fb4-133cb7bacf7b",
   "metadata": {},
   "outputs": [
    {
     "name": "stderr",
     "output_type": "stream",
     "text": [
      "C:\\Users\\sherm\\AppData\\Local\\Temp\\ipykernel_29292\\3149925959.py:1: SettingWithCopyWarning: \n",
      "A value is trying to be set on a copy of a slice from a DataFrame.\n",
      "Try using .loc[row_indexer,col_indexer] = value instead\n",
      "\n",
      "See the caveats in the documentation: https://pandas.pydata.org/pandas-docs/stable/user_guide/indexing.html#returning-a-view-versus-a-copy\n",
      "  temp_clean['차량 등록 대수 당 사고율_temp'] = temp_clean['차량 등록 대수 당 사고율 X 100_int'].astype(str)\n"
     ]
    }
   ],
   "source": [
    "temp_clean['차량 등록 대수 당 사고율_temp'] = temp_clean['차량 등록 대수 당 사고율 X 100_int'].astype(str)"
   ]
  },
  {
   "cell_type": "code",
   "execution_count": 71,
   "id": "b98baf46-3829-4eeb-9539-ad59260eea4c",
   "metadata": {},
   "outputs": [
    {
     "name": "stderr",
     "output_type": "stream",
     "text": [
      "C:\\Users\\sherm\\AppData\\Local\\Temp\\ipykernel_29292\\280895004.py:1: SettingWithCopyWarning: \n",
      "A value is trying to be set on a copy of a slice from a DataFrame.\n",
      "Try using .loc[row_indexer,col_indexer] = value instead\n",
      "\n",
      "See the caveats in the documentation: https://pandas.pydata.org/pandas-docs/stable/user_guide/indexing.html#returning-a-view-versus-a-copy\n",
      "  temp_clean['차량 등록 대수 당 사고율_temp']=temp_clean['차량 등록 대수 당 사고율_temp'] + \"%\"\n"
     ]
    }
   ],
   "source": [
    "temp_clean['차량 등록 대수 당 사고율_temp']=temp_clean['차량 등록 대수 당 사고율_temp'] + \"%\""
   ]
  },
  {
   "cell_type": "code",
   "execution_count": 76,
   "id": "e094b3f3-ed3d-4c4f-aa0f-f8cfc732c258",
   "metadata": {},
   "outputs": [
    {
     "data": {
      "text/html": [
       "<div>\n",
       "<style scoped>\n",
       "    .dataframe tbody tr th:only-of-type {\n",
       "        vertical-align: middle;\n",
       "    }\n",
       "\n",
       "    .dataframe tbody tr th {\n",
       "        vertical-align: top;\n",
       "    }\n",
       "\n",
       "    .dataframe thead tr th {\n",
       "        text-align: left;\n",
       "    }\n",
       "</style>\n",
       "<table border=\"1\" class=\"dataframe\">\n",
       "  <thead>\n",
       "    <tr>\n",
       "      <th></th>\n",
       "      <th>국가</th>\n",
       "      <th>연도</th>\n",
       "      <th>차량 등록 대수 당 사고율</th>\n",
       "    </tr>\n",
       "  </thead>\n",
       "  <tbody>\n",
       "    <tr>\n",
       "      <th>0</th>\n",
       "      <td>그리스</td>\n",
       "      <td>2012</td>\n",
       "      <td>13</td>\n",
       "    </tr>\n",
       "    <tr>\n",
       "      <th>1</th>\n",
       "      <td>네덜란드</td>\n",
       "      <td>2012</td>\n",
       "      <td>4</td>\n",
       "    </tr>\n",
       "    <tr>\n",
       "      <th>2</th>\n",
       "      <td>노르웨이</td>\n",
       "      <td>2012</td>\n",
       "      <td>17</td>\n",
       "    </tr>\n",
       "    <tr>\n",
       "      <th>3</th>\n",
       "      <td>뉴질랜드</td>\n",
       "      <td>2012</td>\n",
       "      <td>29</td>\n",
       "    </tr>\n",
       "    <tr>\n",
       "      <th>4</th>\n",
       "      <td>대한민국</td>\n",
       "      <td>2012</td>\n",
       "      <td>99</td>\n",
       "    </tr>\n",
       "    <tr>\n",
       "      <th>...</th>\n",
       "      <td>...</td>\n",
       "      <td>...</td>\n",
       "      <td>...</td>\n",
       "    </tr>\n",
       "    <tr>\n",
       "      <th>370</th>\n",
       "      <td>캐나다</td>\n",
       "      <td>2021</td>\n",
       "      <td>30</td>\n",
       "    </tr>\n",
       "    <tr>\n",
       "      <th>375</th>\n",
       "      <td>폴란드</td>\n",
       "      <td>2021</td>\n",
       "      <td>6</td>\n",
       "    </tr>\n",
       "    <tr>\n",
       "      <th>376</th>\n",
       "      <td>프랑스</td>\n",
       "      <td>2021</td>\n",
       "      <td>11</td>\n",
       "    </tr>\n",
       "    <tr>\n",
       "      <th>377</th>\n",
       "      <td>핀란드</td>\n",
       "      <td>2021</td>\n",
       "      <td>6</td>\n",
       "    </tr>\n",
       "    <tr>\n",
       "      <th>378</th>\n",
       "      <td>헝가리</td>\n",
       "      <td>2021</td>\n",
       "      <td>29</td>\n",
       "    </tr>\n",
       "  </tbody>\n",
       "</table>\n",
       "<p>290 rows × 3 columns</p>\n",
       "</div>"
      ],
      "text/plain": [
       "       국가    연도 차량 등록 대수 당 사고율\n",
       "0     그리스  2012             13\n",
       "1    네덜란드  2012              4\n",
       "2    노르웨이  2012             17\n",
       "3    뉴질랜드  2012             29\n",
       "4    대한민국  2012             99\n",
       "..    ...   ...            ...\n",
       "370   캐나다  2021             30\n",
       "375   폴란드  2021              6\n",
       "376   프랑스  2021             11\n",
       "377   핀란드  2021              6\n",
       "378   헝가리  2021             29\n",
       "\n",
       "[290 rows x 3 columns]"
      ]
     },
     "execution_count": 76,
     "metadata": {},
     "output_type": "execute_result"
    }
   ],
   "source": [
    "temp_output=temp_clean[['국가','연도','차량 등록 대수 당 사고율 X 100_int']]\n",
    "temp_output.columns = [['국가', '연도', '차량 등록 대수 당 사고율']]\n",
    "temp_output"
   ]
  },
  {
   "cell_type": "code",
   "execution_count": 77,
   "id": "9c9c0152-c654-4b8b-96db-acbbf43867aa",
   "metadata": {},
   "outputs": [],
   "source": [
    "temp_output.to_csv(output_file_dir+'차량_등록대수_당_사고건수.csv')"
   ]
  }
 ],
 "metadata": {
  "kernelspec": {
   "display_name": "Python 3 (ipykernel)",
   "language": "python",
   "name": "python3"
  },
  "language_info": {
   "codemirror_mode": {
    "name": "ipython",
    "version": 3
   },
   "file_extension": ".py",
   "mimetype": "text/x-python",
   "name": "python",
   "nbconvert_exporter": "python",
   "pygments_lexer": "ipython3",
   "version": "3.13.3"
  },
  "widgets": {
   "application/vnd.jupyter.widget-state+json": {
    "state": {},
    "version_major": 2,
    "version_minor": 0
   }
  }
 },
 "nbformat": 4,
 "nbformat_minor": 5
}
